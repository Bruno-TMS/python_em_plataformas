{
 "cells": [
  {
   "cell_type": "markdown",
   "id": "6e6adfc3",
   "metadata": {},
   "source": [
    "#### Síncrono. \n",
    "O programa é executado de modo sequencial, aguardando o completo término de um subrotina para iniciar uma outra."
   ]
  },
  {
   "cell_type": "code",
   "execution_count": 45,
   "id": "109de399",
   "metadata": {},
   "outputs": [
    {
     "name": "stdout",
     "output_type": "stream",
     "text": [
      "Início do preparar_cafe()\n",
      "Fim do preparar_cafe()\n",
      "Início do assar_baguete()\n",
      "Fim do assar_baguete()\n",
      "Resultado de preparar café: Café pronto!\n",
      "Resultado de assar baguete: Baguete assada!\n",
      "Tempo total de execução: 5.01 seconds\n"
     ]
    }
   ],
   "source": [
    "import time\n",
    "\n",
    "def preparar_cafe():\n",
    "    print('Início do preparar_cafe()')\n",
    "    time.sleep(2)\n",
    "    print('Fim do preparar_cafe()')\n",
    "    return 'Café pronto!'\n",
    "\n",
    "def assar_baguete():\n",
    "    print('Início do assar_baguete()')\n",
    "    time.sleep(3)\n",
    "    print('Fim do assar_baguete()')\n",
    "    return 'Baguete assada!'\n",
    "\n",
    "def main():\n",
    "    tempo_inicio = time.time()\n",
    "\n",
    "    resultado_cafe = preparar_cafe()\n",
    "    resultado_baguete = assar_baguete()\n",
    "\n",
    "    tempo_fim = time.time()\n",
    "    duracao = tempo_fim - tempo_inicio\n",
    "    print(f'Resultado de preparar café: {resultado_cafe}')\n",
    "    print(f'Resultado de assar baguete: {resultado_baguete}')\n",
    "    print(f'Tempo total de execução: {duracao:.2f} seconds')\n",
    "\n",
    "main()"
   ]
  },
  {
   "cell_type": "markdown",
   "id": "34a97ef3",
   "metadata": {},
   "source": [
    "#### Assíncrono com execução em lote\n",
    "O programa é executado de modo simultâneo, onde o gerenciamento das corrotinas é feito pelo módulo asyncio."
   ]
  },
  {
   "cell_type": "code",
   "execution_count": 46,
   "id": "09c10859",
   "metadata": {},
   "outputs": [
    {
     "name": "stdout",
     "output_type": "stream",
     "text": [
      "Início do preparar_cafe()\n",
      "Início do assar_baguete()\n",
      "Fim do preparar_cafe()\n",
      "Fim do assar_baguete()\n",
      "Resultado de preparar café: Café pronto!\n",
      "Resultado de assar baguete: Baguete assada!\n",
      "Tempo total de execução: 3.00 seconds\n"
     ]
    }
   ],
   "source": [
    "import asyncio\n",
    "\n",
    "async def preparar_cafe():\n",
    "    print('Início do preparar_cafe()')\n",
    "    await asyncio.sleep(2)\n",
    "    print('Fim do preparar_cafe()')\n",
    "    return 'Café pronto!'\n",
    "\n",
    "async def assar_baguete():\n",
    "    print('Início do assar_baguete()')\n",
    "    await asyncio.sleep(3)\n",
    "    print('Fim do assar_baguete()')\n",
    "    return 'Baguete assada!'\n",
    "\n",
    "async def main():\n",
    "    tempo_inicio = time.time()\n",
    "\n",
    "    lote = asyncio.gather(preparar_cafe(), assar_baguete())\n",
    "\n",
    "    resultado_cafe, resultado_baguete = await lote\n",
    "\n",
    "    tempo_fim = time.time()\n",
    "    duracao = tempo_fim - tempo_inicio\n",
    "    print(f'Resultado de preparar café: {resultado_cafe}')\n",
    "    print(f'Resultado de assar baguete: {resultado_baguete}')\n",
    "    print(f'Tempo total de execução: {duracao:.2f} seconds')\n",
    "\n",
    "await main()"
   ]
  },
  {
   "cell_type": "markdown",
   "id": "02a5746e",
   "metadata": {},
   "source": [
    "#### Assíncrono com execução de tarefas individuais\n",
    "O programa é executado de modo simultâneo, onde o gerenciamento das corrotinas é feito pelo módulo asyncio."
   ]
  },
  {
   "cell_type": "code",
   "execution_count": 47,
   "id": "23d7c370",
   "metadata": {},
   "outputs": [
    {
     "name": "stdout",
     "output_type": "stream",
     "text": [
      "Início do preparar_cafe()\n",
      "Início do assar_baguete()\n",
      "Fim do preparar_cafe()\n",
      "Fim do assar_baguete()\n",
      "Resultado de preparar café: Café pronto!\n",
      "Resultado de assar baguete: Baguete assada!\n",
      "Tempo total de execução: 3.00 seconds\n"
     ]
    }
   ],
   "source": [
    "import asyncio\n",
    "\n",
    "async def preparar_cafe():\n",
    "    print('Início do preparar_cafe()')\n",
    "    await asyncio.sleep(2)\n",
    "    print('Fim do preparar_cafe()')\n",
    "    return 'Café pronto!'\n",
    "\n",
    "async def assar_baguete():\n",
    "    print('Início do assar_baguete()')\n",
    "    await asyncio.sleep(3)\n",
    "    print('Fim do assar_baguete()')\n",
    "    return 'Baguete assada!'\n",
    "\n",
    "async def main():\n",
    "    tempo_inicio = time.time()\n",
    "\n",
    "    tarefa_cafe = asyncio.create_task(preparar_cafe())\n",
    "    tarefa_baguete = asyncio.create_task(assar_baguete())\n",
    "\n",
    "    resultado_cafe = await tarefa_cafe\n",
    "    resultado_baguete = await tarefa_baguete\n",
    "\n",
    "    tempo_fim = time.time()\n",
    "    duracao = tempo_fim - tempo_inicio\n",
    "    print(f'Resultado de preparar café: {resultado_cafe}')\n",
    "    print(f'Resultado de assar baguete: {resultado_baguete}')\n",
    "    print(f'Tempo total de execução: {duracao:.2f} seconds')\n",
    "\n",
    "await main()"
   ]
  }
 ],
 "metadata": {
  "kernelspec": {
   "display_name": ".venv",
   "language": "python",
   "name": "python3"
  },
  "language_info": {
   "codemirror_mode": {
    "name": "ipython",
    "version": 3
   },
   "file_extension": ".py",
   "mimetype": "text/x-python",
   "name": "python",
   "nbconvert_exporter": "python",
   "pygments_lexer": "ipython3",
   "version": "3.13.3"
  }
 },
 "nbformat": 4,
 "nbformat_minor": 5
}
