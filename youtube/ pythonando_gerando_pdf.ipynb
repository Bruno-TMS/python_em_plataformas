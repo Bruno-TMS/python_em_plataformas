{
 "cells": [
  {
   "cell_type": "markdown",
   "id": "73329da4",
   "metadata": {},
   "source": [
    "Canal: [Gerando PDF com PYTHON](https://youtu.be/Pi94aWswimU?si=170D0MqYGYNnx039)\n",
    "\n",
    "Como trabalhar com arquivos .pdf\n",
    "\n"
   ]
  },
  {
   "cell_type": "code",
   "execution_count": null,
   "id": "6e99e78e",
   "metadata": {
    "vscode": {
     "languageId": "plaintext"
    }
   },
   "outputs": [],
   "source": []
  }
 ],
 "metadata": {
  "language_info": {
   "name": "python"
  }
 },
 "nbformat": 4,
 "nbformat_minor": 5
}
