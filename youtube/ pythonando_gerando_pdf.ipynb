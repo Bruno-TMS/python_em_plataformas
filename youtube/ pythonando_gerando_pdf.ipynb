{
 "cells": [
  {
   "cell_type": "markdown",
   "id": "73329da4",
   "metadata": {},
   "source": [
    "Canal: [Gerando PDF com PYTHON](https://youtu.be/Pi94aWswimU?si=170D0MqYGYNnx039)\n",
    "\n",
    "Como trabalhar com arquivos .pdf\n",
    "\n"
   ]
  },
  {
   "cell_type": "code",
   "execution_count": 3,
   "id": "6e99e78e",
   "metadata": {},
   "outputs": [],
   "source": [
    "\"\"\"Importando módulos necessários para o projeto\"\"\"\n",
    "from reportlab.pdfgen import canvas\n",
    "from reportlab.lib.pagesizes import A4"
   ]
  },
  {
   "cell_type": "markdown",
   "id": "96fde06b",
   "metadata": {},
   "source": [
    "Criando o primeiro .pdf"
   ]
  },
  {
   "cell_type": "code",
   "execution_count": 10,
   "id": "96713c14",
   "metadata": {},
   "outputs": [],
   "source": [
    "def mm2p(milimetros):\n",
    "    return milimetros / 0.352777778"
   ]
  },
  {
   "cell_type": "code",
   "execution_count": 8,
   "id": "ddda20d4",
   "metadata": {},
   "outputs": [],
   "source": [
    "cnv = canvas.Canvas(\"documentos_bruno.pdf\", pagesize=A4)\n",
    "cnv.drawString(250,250, \"Olá Mundo\")\n",
    "cnv.save()"
   ]
  },
  {
   "cell_type": "code",
   "execution_count": 16,
   "id": "87360749",
   "metadata": {},
   "outputs": [],
   "source": [
    "cnv = canvas.Canvas(\"documentos_bruno.pdf\", pagesize=A4)\n",
    "cnv.drawString(mm2p(10),mm2p(10), \"Olá Mundo\")\n",
    "cnv.circle(mm2p(50), mm2p(20), mm2p(20))\n",
    "cnv.save()"
   ]
  },
  {
   "cell_type": "code",
   "execution_count": 18,
   "id": "4c5298d2",
   "metadata": {},
   "outputs": [],
   "source": [
    "cnv = canvas.Canvas(\"documentos_bruno.pdf\", pagesize=A4)\n",
    "cnv.drawString(mm2p(10),mm2p(10), \"Olá Mundo\")\n",
    "cnv.line(mm2p(100), mm2p(150), mm2p(120), mm2p(160))\n",
    "cnv.save()"
   ]
  },
  {
   "cell_type": "code",
   "execution_count": 21,
   "id": "53ed1c26",
   "metadata": {},
   "outputs": [],
   "source": [
    "cnv = canvas.Canvas(\"documentos_bruno.pdf\", pagesize=A4)\n",
    "cnv.drawString(mm2p(10),mm2p(10), \"Olá Mundo\")\n",
    "cnv.rect(mm2p(10), mm2p(20), mm2p(30), mm2p(40))\n",
    "cnv.save()"
   ]
  },
  {
   "cell_type": "code",
   "execution_count": null,
   "id": "a1c0f4d4",
   "metadata": {},
   "outputs": [],
   "source": [
    "cnv = canvas.Canvas(\"documentos_bruno.pdf\", pagesize=A4)\n",
    "cnv.drawString(mm2p(10),mm2p(10), \"Olá Mundo\")\n",
    "cnv.rect(mm2p(10), mm2p(20), mm2p(30), mm2p(40))\n",
    "cnv.save()"
   ]
  }
 ],
 "metadata": {
  "kernelspec": {
   "display_name": ".venv",
   "language": "python",
   "name": "python3"
  },
  "language_info": {
   "codemirror_mode": {
    "name": "ipython",
    "version": 3
   },
   "file_extension": ".py",
   "mimetype": "text/x-python",
   "name": "python",
   "nbconvert_exporter": "python",
   "pygments_lexer": "ipython3",
   "version": "3.13.3"
  }
 },
 "nbformat": 4,
 "nbformat_minor": 5
}
